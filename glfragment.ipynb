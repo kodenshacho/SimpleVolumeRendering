{
  "cells": [
    {
      "cell_type": "markdown",
      "metadata": {
        "id": "view-in-github",
        "colab_type": "text"
      },
      "source": [
        "<a href=\"https://colab.research.google.com/github/kodenshacho/SimpleVolumeRendering/blob/master/glfragment.ipynb\" target=\"_parent\"><img src=\"https://colab.research.google.com/assets/colab-badge.svg\" alt=\"Open In Colab\"/></a>"
      ]
    },
    {
      "cell_type": "code",
      "source": [
        "\n",
        "#include <vector>\n",
        "#include <iostream>\n",
        "\n",
        "int main() {\n",
        "\n",
        "    size_t width = 2048;\n",
        "    size_t height = 1428;\n",
        "    size_t depth = 256;\n",
        "    size_t channels = 3;\n",
        "\n",
        "\n",
        "    size_t num_elements = width * height * depth * channels;\n",
        "\n",
        "    try {\n",
        "\n",
        "        std::vector<unsigned char> s(num_elements);\n",
        "\n",
        "\n",
        "        std::cout << \"Memory allocation successful. Vector size: \" << s.size() << std::endl;\n",
        "\n",
        "\n",
        "        unsigned char* data_ptr = s.data();\n",
        "        for (size_t i = 0; i < num_elements; ++i) {\n",
        "            data_ptr[i] = static_cast<unsigned char>(i % 256);\n",
        "        }\n",
        "\n",
        "\n",
        "        std::cout << \"First element: \" << static_cast<int>(data_ptr[0]) << std::endl;\n",
        "        std::cout << \"Last element: \" << static_cast<int>(data_ptr[num_elements - 1]) << std::endl;\n",
        "    } catch (const std::bad_alloc& e) {\n",
        "\n",
        "        std::cerr << \"Memory allocation failed: \" << e.what() << std::endl;\n",
        "    }\n",
        "\n",
        "    return 0;\n",
        "}"
      ],
      "metadata": {
        "id": "1749cOp_zi6R"
      },
      "execution_count": null,
      "outputs": []
    },
    {
      "cell_type": "code",
      "source": [
        "#include <iostream>\n",
        "#include <sys/mman.h> // mmap, munmap\n",
        "#include <unistd.h>  // sysconf\n",
        "#include <fcntl.h>   // O_RDWR\n",
        "#include <cstring>   // memset\n",
        "\n",
        "int main() {\n",
        "\n",
        "    size_t width = 2048;\n",
        "    size_t height = 1428;\n",
        "    size_t depth = 256;\n",
        "    size_t channels = 3;\n",
        "\n",
        "    size_t num_elements = width * height * depth * channels;\n",
        "    size_t size_in_bytes = num_elements * sizeof(unsigned char);\n",
        "\n",
        "\n",
        "    long page_size = sysconf(_SC_PAGESIZE);\n",
        "\n",
        "    // 필요한 메모리 크기를 페이지 크기의 배수로 맞추기\n",
        "    size_t aligned_size = ((size_in_bytes + page_size - 1) / page_size) * page_size;\n",
        "\n",
        "\n",
        "    unsigned char* data_ptr = static_cast<unsigned char*>(mmap(NULL, aligned_size, PROT_READ | PROT_WRITE, MAP_PRIVATE | MAP_ANONYMOUS, -1, 0));\n",
        "    if (data_ptr == MAP_FAILED) {\n",
        "        std::cerr << \"Memory mapping failed\" << std::endl;\n",
        "        return 1;\n",
        "    }\n",
        "\n",
        "\n",
        "    memset(data_ptr, 0, aligned_size);\n",
        "\n",
        "\n",
        "    for (size_t i = 0; i < num_elements; ++i) {\n",
        "        data_ptr[i] = static_cast<unsigned char>(i % 256);\n",
        "    }\n",
        "\n",
        "\n",
        "    std::cout << \"First element: \" << static_cast<int>(data_ptr[0]) << std::endl;\n",
        "    std::cout << \"Last element: \" << static_cast<int>(data_ptr[num_elements - 1]) << std::endl;\n",
        "\n",
        "\n",
        "    if (munmap(data_ptr, aligned_size) == -1) {\n",
        "        std::cerr << \"Memory unmapping failed\" << std::endl;\n",
        "        return 1;\n",
        "    }\n",
        "\n",
        "    return 0;\n",
        "}"
      ],
      "metadata": {
        "id": "lqK4GHjMzw8P"
      },
      "execution_count": null,
      "outputs": []
    }
  ],
  "metadata": {
    "colab": {
      "provenance": [],
      "include_colab_link": true
    },
    "kernelspec": {
      "display_name": "Python 3",
      "name": "python3"
    }
  },
  "nbformat": 4,
  "nbformat_minor": 0
}